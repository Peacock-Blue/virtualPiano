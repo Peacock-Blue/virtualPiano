{
 "cells": [
  {
   "cell_type": "code",
   "execution_count": 1,
   "id": "confidential-technical",
   "metadata": {},
   "outputs": [],
   "source": [
    "import numpy\n",
    "import cv2\n",
    "import pyaudio\n",
    "import math"
   ]
  },
  {
   "cell_type": "code",
   "execution_count": 2,
   "id": "sonic-screw",
   "metadata": {},
   "outputs": [],
   "source": [
    "def openCamera():\n",
    "    vid = cv2.VideoCapture(0)\n",
    "    return vid"
   ]
  },
  {
   "cell_type": "code",
   "execution_count": 3,
   "id": "studied-syndication",
   "metadata": {},
   "outputs": [],
   "source": [
    "def closeCamera(vid):\n",
    "    vid.release()\n",
    "    cv2.destroyAllWindows()"
   ]
  },
  {
   "cell_type": "code",
   "execution_count": 4,
   "id": "divine-longitude",
   "metadata": {},
   "outputs": [],
   "source": [
    "def generateSound(bitRate, frequency, length):\n",
    "    if frequency>bitRate:\n",
    "        bitRate = frequency + 100\n",
    "    numberOfFrames = int(bitRate*length)\n",
    "    restFrames = numberOfFrames % bitRate\n",
    "    waveData = ''\n",
    "    for x in range(numberOfFrames):\n",
    "        waveData = waveData + chr(int(math.sin(x/((bitRate/frequency)/math.pi))*127+128))\n",
    "    for x in range(restFrames):\n",
    "        waveData = waveData + chr(128)\n",
    "    p = pyaudio.PyAudio()\n",
    "    stream = p.open(format=p.get_format_from_width(1), channels=2, rate=bitRate, output=True)\n",
    "    stream.write(waveData)\n",
    "    stream.stop_stream()\n",
    "    stream.close()\n",
    "    p.terminate()"
   ]
  },
  {
   "cell_type": "code",
   "execution_count": 5,
   "id": "opening-conditions",
   "metadata": {},
   "outputs": [],
   "source": [
    "def detectRectangle(image):\n",
    "    gray = cv2.cvtColor(image, cv2.COLOR_BGR2GRAY)\n",
    "    cv2.imshow(\"gray\", gray)\n",
    "    _, threshold = cv2.threshold(gray, 240, 255, cv2.THRESH_BINARY)\n",
    "    contours, _ = cv2.findContours(threshold, cv2.RETR_TREE, cv2.CHAIN_APPROX_SIMPLE)\n",
    "    for cnt in contours:\n",
    "        approx = cv2.approxPolyDP(cnt, 0.01*cv2.arcLength(cnt, True), True)\n",
    "        cv2.drawContours(gray, [approx], 0, (0), 5)\n",
    "        x = approx.ravel()[0]\n",
    "        y = approx.ravel()[1]\n",
    "        if len(approx) == 4:\n",
    "            return True\n",
    "    return False"
   ]
  },
  {
   "cell_type": "code",
   "execution_count": 6,
   "id": "comfortable-message",
   "metadata": {},
   "outputs": [],
   "source": [
    "def showCamera():\n",
    "    vid = openCamera()\n",
    "    if not (vid.isOpened()):\n",
    "        print(\"Could not open video device\")\n",
    "    while(True):\n",
    "        ret, frame = vid.read()\n",
    "        #cv2.namedWindow(\"Camera\", cv2.WINDOW_FREERATIO)\n",
    "        #cv2.setWindowProperty(\"Camera\", cv2.WND_PROP_AUTOSIZE, cv2.WINDOW_NORMAL)\n",
    "        if detectRectangle(frame):\n",
    "            print(\"yes\")\n",
    "            generateSound(5000, 10000, 2)\n",
    "        else:\n",
    "            print(\"No\")\n",
    "        cv2.imshow(\"Camera\", frame)\n",
    "        key = cv2.waitKey(1)\n",
    "        if key == ord('q'):\n",
    "            break\n",
    "    closeCamera(vid)"
   ]
  },
  {
   "cell_type": "code",
   "execution_count": 7,
   "id": "concrete-virtue",
   "metadata": {},
   "outputs": [
    {
     "name": "stdout",
     "output_type": "stream",
     "text": [
      "yes\n",
      "yes\n",
      "yes\n",
      "yes\n",
      "yes\n",
      "yes\n",
      "yes\n",
      "yes\n",
      "yes\n",
      "yes\n",
      "yes\n",
      "yes\n",
      "yes\n",
      "yes\n",
      "yes\n",
      "yes\n",
      "yes\n",
      "yes\n",
      "yes\n",
      "yes\n",
      "yes\n",
      "yes\n",
      "yes\n",
      "yes\n",
      "yes\n",
      "yes\n",
      "yes\n",
      "No\n",
      "No\n",
      "No\n",
      "yes\n",
      "yes\n",
      "yes\n",
      "yes\n",
      "yes\n",
      "yes\n",
      "yes\n",
      "yes\n",
      "yes\n",
      "yes\n",
      "yes\n",
      "yes\n",
      "No\n",
      "yes\n",
      "No\n",
      "No\n",
      "yes\n",
      "yes\n",
      "yes\n"
     ]
    }
   ],
   "source": [
    "showCamera()"
   ]
  },
  {
   "cell_type": "code",
   "execution_count": null,
   "id": "terminal-cancellation",
   "metadata": {},
   "outputs": [],
   "source": []
  },
  {
   "cell_type": "code",
   "execution_count": null,
   "id": "golden-crest",
   "metadata": {},
   "outputs": [],
   "source": []
  }
 ],
 "metadata": {
  "kernelspec": {
   "display_name": "Python 3",
   "language": "python",
   "name": "python3"
  },
  "language_info": {
   "codemirror_mode": {
    "name": "ipython",
    "version": 3
   },
   "file_extension": ".py",
   "mimetype": "text/x-python",
   "name": "python",
   "nbconvert_exporter": "python",
   "pygments_lexer": "ipython3",
   "version": "3.9.2"
  }
 },
 "nbformat": 4,
 "nbformat_minor": 5
}
