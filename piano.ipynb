{
 "cells": [
  {
   "cell_type": "code",
   "execution_count": 19,
   "id": "confidential-technical",
   "metadata": {},
   "outputs": [],
   "source": [
    "import numpy\n",
    "import cv2\n",
    "import pyaudio\n",
    "import math\n",
    "import mediapipe\n",
    "drawingModule = mediapipe.solutions.drawing_utils\n",
    "handsModule = mediapipe.solutions.hands"
   ]
  },
  {
   "cell_type": "code",
   "execution_count": 20,
   "id": "sonic-screw",
   "metadata": {},
   "outputs": [],
   "source": [
    "def openCamera():\n",
    "    vid = cv2.VideoCapture(0)\n",
    "    if not (vid.isOpened()):\n",
    "        print(\"Could not open video device\")\n",
    "        vid.release()\n",
    "    return vid"
   ]
  },
  {
   "cell_type": "code",
   "execution_count": 21,
   "id": "studied-syndication",
   "metadata": {},
   "outputs": [],
   "source": [
    "def closeCamera(vid):\n",
    "    if vid == None or not vid.isOpened():\n",
    "        return\n",
    "    vid.release()\n",
    "    cv2.destroyAllWindows()"
   ]
  },
  {
   "cell_type": "code",
   "execution_count": 22,
   "id": "divine-longitude",
   "metadata": {},
   "outputs": [],
   "source": [
    "def generateSound(bitRate, frequency, length):\n",
    "    if frequency>bitRate:\n",
    "        bitRate = frequency + 100\n",
    "    numberOfFrames = int(bitRate*length)\n",
    "    restFrames = numberOfFrames % bitRate\n",
    "    waveData = ''\n",
    "    for x in range(numberOfFrames):\n",
    "        waveData = waveData + chr(int(math.sin(x/((bitRate/frequency)/math.pi))*127+128))\n",
    "    for x in range(restFrames):\n",
    "        waveData = waveData + chr(128)\n",
    "    \n",
    "    stream.write(waveData)\n",
    "    "
   ]
  },
  {
   "cell_type": "code",
   "execution_count": 23,
   "id": "opening-conditions",
   "metadata": {},
   "outputs": [],
   "source": [
    "def detectRectangle(image):\n",
    "    gray = cv2.cvtColor(image, cv2.COLOR_BGR2GRAY)\n",
    "    cv2.imshow(\"gray\", gray)\n",
    "    _, threshold = cv2.threshold(gray, 240, 255, cv2.THRESH_BINARY)\n",
    "    contours, _ = cv2.findContours(threshold, cv2.RETR_TREE, cv2.CHAIN_APPROX_SIMPLE)\n",
    "    for cnt in contours:\n",
    "        approx = cv2.approxPolyDP(cnt, 0.01*cv2.arcLength(cnt, True), True)\n",
    "        cv2.drawContours(gray, [approx], 0, (0), 5)\n",
    "        x = approx.ravel()[0]\n",
    "        y = approx.ravel()[1]\n",
    "        if len(approx) == 4:\n",
    "            return True\n",
    "    return False"
   ]
  },
  {
   "source": [
    "def showCamera():\n",
    "    vid = openCamera()\n",
    "    while(True):\n",
    "        ret, frame = vid.read()\n",
    "        #cv2.namedWindow(\"Camera\", cv2.WINDOW_FREERATIO)\n",
    "        #cv2.setWindowProperty(\"Camera\", cv2.WND_PROP_AUTOSIZE, cv2.WINDOW_NORMAL)\n",
    "        if detectRectangle(frame):\n",
    "            print(\"yes\")\n",
    "            generateSound(5000, 10000, 0.1)\n",
    "        else:\n",
    "            print(\"No\")\n",
    "        cv2.imshow(\"Camera\", frame)\n",
    "        key = cv2.waitKey(1)\n",
    "        if key == ord('q'):\n",
    "            break\n",
    "    closeCamera(vid)"
   ],
   "cell_type": "code",
   "metadata": {},
   "execution_count": 24,
   "outputs": []
  },
  {
   "source": [
    "showCamera()"
   ],
   "cell_type": "markdown",
   "metadata": {}
  },
  {
   "cell_type": "code",
   "execution_count": 25,
   "metadata": {},
   "outputs": [],
   "source": [
    "fingerTips = [\n",
    "    handsModule.HandLandmark.THUMB_TIP,\n",
    "    handsModule.HandLandmark.INDEX_FINGER_TIP,\n",
    "    handsModule.HandLandmark.MIDDLE_FINGER_TIP,\n",
    "    handsModule.HandLandmark.RING_FINGER_TIP,\n",
    "    handsModule.HandLandmark.PINKY_TIP\n",
    "]"
   ]
  },
  {
   "cell_type": "code",
   "execution_count": 26,
   "id": "terminal-cancellation",
   "metadata": {},
   "outputs": [],
   "source": [
    "capture = openCamera()\n",
    "frameWidth = capture.get(cv2.CAP_PROP_FRAME_WIDTH)\n",
    "frameHeight = capture.get(cv2.CAP_PROP_FRAME_HEIGHT)\n",
    "once = True\n",
    "p = pyaudio.PyAudio()\n",
    "bitRate=5000\n",
    "stream = p.open(format=p.get_format_from_width(1), channels=2, rate=bitRate, output=True)\n",
    "with handsModule.Hands(static_image_mode=False, min_detection_confidence=0.7, min_tracking_confidence=0.7, max_num_hands=2) as hands:\n",
    " \n",
    "    while (True):\n",
    " \n",
    "        ret, frame = capture.read()\n",
    " \n",
    "        results = hands.process(cv2.cvtColor(frame, cv2.COLOR_BGR2RGB))\n",
    "        k = 0\n",
    "        if results.multi_hand_landmarks != None:\n",
    "            for handLandmarks in results.multi_hand_landmarks:\n",
    "                for point in fingerTips:\n",
    "                    normalizedLandmark = handLandmarks.landmark[point]\n",
    "                    if normalizedLandmark.y < 0.5:\n",
    "                        generateSound(bitRate, 10000, 0.2)\n",
    "                        print(\"gadha\")\n",
    "                    \n",
    "                # for point in handsModule.HandLandmark:\n",
    " \n",
    "                #     normalizedLandmark = handLandmarks.landmark[point]\n",
    "                    pixelCoordinatesLandmark = drawingModule._normalized_to_pixel_coordinates(normalizedLandmark.x, normalizedLandmark.y, frameWidth, frameHeight)\n",
    " \n",
    "                    cv2.circle(frame, pixelCoordinatesLandmark, 5, (11 * k, 255, 0), -1)\n",
    "                #     k+=1\n",
    "                #     if once:\n",
    "                #         print([\"zzzzzzzzzzzzzzz\",point, \"zzzzzzzzzzzzzz\"])\n",
    "            once = False\n",
    " \n",
    "        cv2.imshow('Test hand', frame)\n",
    " \n",
    "        if cv2.waitKey(1) == 27:\n",
    "            break\n",
    " \n",
    "closeCamera(capture)\n",
    "stream.stop_stream()\n",
    "stream.close()\n",
    "p.terminate()"
   ]
  },
  {
   "cell_type": "code",
   "execution_count": 27,
   "id": "golden-crest",
   "metadata": {},
   "outputs": [
    {
     "output_type": "error",
     "ename": "OSError",
     "evalue": "[Errno -9988] Stream closed",
     "traceback": [
      "\u001b[0;31m---------------------------------------------------------------------------\u001b[0m",
      "\u001b[0;31mOSError\u001b[0m                                   Traceback (most recent call last)",
      "\u001b[0;32m<ipython-input-27-3ea7bfdcdf37>\u001b[0m in \u001b[0;36m<module>\u001b[0;34m\u001b[0m\n\u001b[0;32m----> 1\u001b[0;31m \u001b[0mgenerateSound\u001b[0m\u001b[0;34m(\u001b[0m\u001b[0;36m5000\u001b[0m\u001b[0;34m,\u001b[0m \u001b[0;36m10000\u001b[0m\u001b[0;34m,\u001b[0m \u001b[0;36m1\u001b[0m\u001b[0;34m)\u001b[0m\u001b[0;34m\u001b[0m\u001b[0;34m\u001b[0m\u001b[0m\n\u001b[0m",
      "\u001b[0;32m<ipython-input-22-c256fa120c71>\u001b[0m in \u001b[0;36mgenerateSound\u001b[0;34m(bitRate, frequency, length)\u001b[0m\n\u001b[1;32m     10\u001b[0m         \u001b[0mwaveData\u001b[0m \u001b[0;34m=\u001b[0m \u001b[0mwaveData\u001b[0m \u001b[0;34m+\u001b[0m \u001b[0mchr\u001b[0m\u001b[0;34m(\u001b[0m\u001b[0;36m128\u001b[0m\u001b[0;34m)\u001b[0m\u001b[0;34m\u001b[0m\u001b[0;34m\u001b[0m\u001b[0m\n\u001b[1;32m     11\u001b[0m \u001b[0;34m\u001b[0m\u001b[0m\n\u001b[0;32m---> 12\u001b[0;31m     \u001b[0mstream\u001b[0m\u001b[0;34m.\u001b[0m\u001b[0mwrite\u001b[0m\u001b[0;34m(\u001b[0m\u001b[0mwaveData\u001b[0m\u001b[0;34m)\u001b[0m\u001b[0;34m\u001b[0m\u001b[0;34m\u001b[0m\u001b[0m\n\u001b[0m\u001b[1;32m     13\u001b[0m \u001b[0;34m\u001b[0m\u001b[0m\n",
      "\u001b[0;32m~/.local/lib/python3.8/site-packages/pyaudio.py\u001b[0m in \u001b[0;36mwrite\u001b[0;34m(self, frames, num_frames, exception_on_underflow)\u001b[0m\n\u001b[1;32m    583\u001b[0m             \u001b[0;31m#print len(frames), self._channels, self._width, num_frames\u001b[0m\u001b[0;34m\u001b[0m\u001b[0;34m\u001b[0m\u001b[0;34m\u001b[0m\u001b[0m\n\u001b[1;32m    584\u001b[0m \u001b[0;34m\u001b[0m\u001b[0m\n\u001b[0;32m--> 585\u001b[0;31m         pa.write_stream(self._stream, frames, num_frames,\n\u001b[0m\u001b[1;32m    586\u001b[0m                         exception_on_underflow)\n\u001b[1;32m    587\u001b[0m \u001b[0;34m\u001b[0m\u001b[0m\n",
      "\u001b[0;31mOSError\u001b[0m: [Errno -9988] Stream closed"
     ]
    }
   ],
   "source": [
    "generateSound(5000, 10000, 1)"
   ]
  },
  {
   "cell_type": "code",
   "execution_count": null,
   "metadata": {},
   "outputs": [],
   "source": []
  }
 ],
 "metadata": {
  "kernelspec": {
   "name": "python382jvsc74a57bd031f2aee4e71d21fbe5cf8b01ff0e069b9275f58929596ceb00d14d90e3e16cd6",
   "display_name": "Python 3.8.2 64-bit"
  },
  "language_info": {
   "codemirror_mode": {
    "name": "ipython",
    "version": 3
   },
   "file_extension": ".py",
   "mimetype": "text/x-python",
   "name": "python",
   "nbconvert_exporter": "python",
   "pygments_lexer": "ipython3",
   "version": "3.8.2"
  }
 },
 "nbformat": 4,
 "nbformat_minor": 5
}